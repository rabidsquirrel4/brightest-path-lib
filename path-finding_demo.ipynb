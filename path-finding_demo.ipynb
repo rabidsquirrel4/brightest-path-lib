{
 "cells": [
  {
   "cell_type": "markdown",
   "metadata": {},
   "source": [
    "## Imports and Garbage Collection"
   ]
  },
  {
   "cell_type": "code",
   "execution_count": 1,
   "metadata": {},
   "outputs": [
    {
     "data": {
      "text/plain": [
       "16"
      ]
     },
     "execution_count": 1,
     "metadata": {},
     "output_type": "execute_result"
    }
   ],
   "source": [
    "import numpy as np\n",
    "from matplotlib import pyplot as plt\n",
    "from brightest_path_lib.algorithm import AStarSearch # type: ignore\n",
    "from brightest_path_lib.input import CostFunction, HeuristicFunction # type: ignore\n",
    "from brightest_path_lib.cost import ReciprocalConsistency, ConsistencyTurns\n",
    "from IPython.display import Image\n",
    "import matplotlib.image as mpimg\n",
    "import cv2\n",
    "import time\n",
    "import gc\n",
    "\n",
    "gc.collect()"
   ]
  },
  {
   "cell_type": "markdown",
   "metadata": {},
   "source": [
    "## Settings"
   ]
  },
  {
   "cell_type": "code",
   "execution_count": 2,
   "metadata": {},
   "outputs": [],
   "source": [
    "file = \"images/substation3_200.png\"\n",
    "cost_func = \"ct-wght-sum_rgb-thresh\"\n",
    "parameters = \"dir-wght=10000000\"\n",
    "\n",
    "start_end_dict = {\"pair1\": [(2270, 4246), (5117, 4600)],\n",
    "                  \"pair2\": [(397, 1137), (700, 7303)],\n",
    "                  \"pair3\": [(3026, 1571), (5128, 3577)],\n",
    "                  \"pair4\": [(4158, 5742), (5513, 5860)],\n",
    "                  \"pair5\": [(5100, 941), (3021, 1216)],\n",
    "                  }\n",
    "pair = \"pair3\"\n",
    "start_pixel, end_pixel = start_end_dict[pair][0], start_end_dict[pair][1]\n"
   ]
  },
  {
   "cell_type": "markdown",
   "metadata": {},
   "source": [
    "## Pre-Processing"
   ]
  },
  {
   "cell_type": "markdown",
   "metadata": {},
   "source": [
    "##### Image Processing"
   ]
  },
  {
   "cell_type": "code",
   "execution_count": 3,
   "metadata": {},
   "outputs": [],
   "source": [
    "img_rgba = mpimg.imread(file)\n",
    "img_gray = 1 - cv2.cvtColor(img_rgba, cv2.COLOR_BGR2GRAY)  # invert color"
   ]
  },
  {
   "cell_type": "markdown",
   "metadata": {},
   "source": [
    "##### Cost Function"
   ]
  },
  {
   "cell_type": "code",
   "execution_count": 4,
   "metadata": {},
   "outputs": [],
   "source": [
    "consistency_cost_func: CostFunction = ReciprocalConsistency(0, 1, img_rgba[start_pixel])\n",
    "if cost_func[:2] == \"ct\":\n",
    "    consistency_cost_func: CostFunction = ConsistencyTurns(0, 1, img_rgba[start_pixel])"
   ]
  },
  {
   "cell_type": "markdown",
   "metadata": {},
   "source": [
    "##### AStarSearch Class Definition"
   ]
  },
  {
   "cell_type": "code",
   "execution_count": 5,
   "metadata": {},
   "outputs": [],
   "source": [
    "astar = AStarSearch(img_gray, img_rgba, start_pixel, end_pixel,\n",
    "                    cost_function=consistency_cost_func)"
   ]
  },
  {
   "cell_type": "markdown",
   "metadata": {},
   "source": [
    "## A-Star"
   ]
  },
  {
   "cell_type": "code",
   "execution_count": 6,
   "metadata": {},
   "outputs": [
    {
     "name": "stdout",
     "output_type": "stream",
     "text": [
      "Starting AStar on pair3...\n",
      "Found goal!\n",
      "AStar ended.\n",
      "Astar Run Time: 20.85813879966736 seconds\n"
     ]
    }
   ],
   "source": [
    "astar_start_time = time.time()\n",
    "print(f\"Starting AStar on {pair}...\")\n",
    "path = astar.search()\n",
    "astar_end_time = time.time()\n",
    "print(\"AStar ended.\")\n",
    "print(f\"Astar Run Time: {astar_end_time - astar_start_time} seconds\")"
   ]
  },
  {
   "cell_type": "markdown",
   "metadata": {},
   "source": [
    "## Plotting Result"
   ]
  },
  {
   "cell_type": "code",
   "execution_count": 7,
   "metadata": {},
   "outputs": [
    {
     "name": "stdout",
     "output_type": "stream",
     "text": [
      "Loading Image ...\n",
      "Plotting Points and Path ...\n",
      "Saving Figure ...\n",
      "Done\n"
     ]
    }
   ],
   "source": [
    "print(\"Loading Image ...\")\n",
    "plt.imshow(img_rgba)\n",
    "print(\"Plotting Points and Path ...\")\n",
    "plt.plot(start_pixel[1], start_pixel[0], 'og')\n",
    "plt.plot(end_pixel[1], end_pixel[0], 'or')\n",
    "plt.plot([point[1] for point in astar.result], [point[0] for point in path], '-b', linewidth=3)\n",
    "plt.plot(start_pixel[1], start_pixel[0], 'og')\n",
    "plt.plot(end_pixel[1], end_pixel[0], 'or')\n",
    "plt.tight_layout()\n",
    "print(\"Saving Figure ...\")\n",
    "fig_name = f\"images/substation3_200_{pair}_{cost_func}_{parameters}_demo.png\"\n",
    "plt.savefig(fig_name)\n",
    "plt.close()\n",
    "print('Done')"
   ]
  },
  {
   "cell_type": "markdown",
   "metadata": {},
   "source": [
    "## Show Image"
   ]
  },
  {
   "cell_type": "code",
   "execution_count": 8,
   "metadata": {},
   "outputs": [],
   "source": [
    "# Image(filename=fig_name)"
   ]
  },
  {
   "cell_type": "markdown",
   "metadata": {},
   "source": [
    "## Animation"
   ]
  },
  {
   "cell_type": "code",
   "execution_count": 9,
   "metadata": {},
   "outputs": [],
   "source": [
    "import seaborn as sns\n",
    "sns.set_theme(style=\"darkgrid\")"
   ]
  },
  {
   "cell_type": "code",
   "execution_count": 40,
   "metadata": {},
   "outputs": [],
   "source": [
    "%%capture\n",
    "# astar.result\n",
    "import matplotlib.animation as animation\n",
    "\n",
    "# fig, ax = plt.subplots(figsize=(60,84))\n",
    "fig, ax = plt.subplots(figsize=(5,7))\n",
    "img_fig = ax.imshow(img_rgba)\n",
    "plt.plot(start_pixel[1], start_pixel[0], 'og', markersize=5)\n",
    "plt.plot(end_pixel[1], end_pixel[0], 'or', markersize=5)\n"
   ]
  },
  {
   "cell_type": "code",
   "execution_count": 41,
   "metadata": {},
   "outputs": [],
   "source": [
    "def plot_frame_func(frame, ax, points):\n",
    "    # ax.clear()\n",
    "    ax.plot(points[frame][1], points[frame][0], 'bo', markersize=3)\n",
    "    return ax"
   ]
  },
  {
   "cell_type": "code",
   "execution_count": 43,
   "metadata": {},
   "outputs": [],
   "source": [
    "# frames_indicies = range(len(astar.result))\n",
    "# %matplotlib widget\n",
    "total_frames = len(astar.result)\n",
    "step = int(total_frames / 30)\n",
    "frames_indicies = range(0, total_frames, step)\n",
    "\n",
    "ani = animation.FuncAnimation(fig, plot_frame_func, frames_indicies,\n",
    "                              interval=100, \n",
    "                              repeat_delay=5000, blit=False,\n",
    "                              fargs=(ax, astar.result))\n",
    "\n",
    "# plt.show()"
   ]
  },
  {
   "cell_type": "code",
   "execution_count": null,
   "metadata": {},
   "outputs": [],
   "source": [
    "from IPython.display import HTML\n",
    "HTML(ani.to_jshtml())"
   ]
  },
  {
   "cell_type": "code",
   "execution_count": 44,
   "metadata": {},
   "outputs": [
    {
     "name": "stdout",
     "output_type": "stream",
     "text": [
      "Saving animation ...\n"
     ]
    },
    {
     "name": "stderr",
     "output_type": "stream",
     "text": [
      "/home/rabidsquir/brightest-path-lib/brightest-venv/lib/python3.10/site-packages/matplotlib/animation.py:892: UserWarning: Animation was deleted without rendering anything. This is most likely not intended. To prevent deletion, assign the Animation to a variable, e.g. `anim`, that exists until you output the Animation using `plt.show()` or `anim.save()`.\n",
      "  warnings.warn(\n"
     ]
    }
   ],
   "source": [
    "print(\"Saving animation ...\")\n",
    "ani.save(f\"images/animation_{pair}_{cost_func}_{parameters}.mp4\")"
   ]
  },
  {
   "cell_type": "code",
   "execution_count": 16,
   "metadata": {},
   "outputs": [
    {
     "data": {
      "text/plain": [
       "4883"
      ]
     },
     "execution_count": 16,
     "metadata": {},
     "output_type": "execute_result"
    }
   ],
   "source": [
    "img_rgba.shape\n",
    "astar.result[0][1]\n",
    "len(astar.result)"
   ]
  },
  {
   "cell_type": "code",
   "execution_count": null,
   "metadata": {},
   "outputs": [],
   "source": []
  }
 ],
 "metadata": {
  "kernelspec": {
   "display_name": "Python 3 (ipykernel)",
   "language": "python",
   "name": "python3"
  },
  "language_info": {
   "codemirror_mode": {
    "name": "ipython",
    "version": 3
   },
   "file_extension": ".py",
   "mimetype": "text/x-python",
   "name": "python",
   "nbconvert_exporter": "python",
   "pygments_lexer": "ipython3",
   "version": "3.10.12"
  }
 },
 "nbformat": 4,
 "nbformat_minor": 2
}
