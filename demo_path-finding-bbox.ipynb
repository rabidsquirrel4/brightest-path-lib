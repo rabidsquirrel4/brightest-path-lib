{
 "cells": [
  {
   "cell_type": "markdown",
   "metadata": {},
   "source": [
    "## Imports and Garbage Collection"
   ]
  },
  {
   "cell_type": "code",
   "execution_count": 1,
   "metadata": {},
   "outputs": [
    {
     "data": {
      "text/plain": [
       "16"
      ]
     },
     "execution_count": 1,
     "metadata": {},
     "output_type": "execute_result"
    }
   ],
   "source": [
    "import numpy as np\n",
    "from matplotlib import pyplot as plt\n",
    "from brightest_path_lib.algorithm import AStarSearch # type: ignore\n",
    "from brightest_path_lib.input import CostFunction, HeuristicFunction # type: ignore\n",
    "from brightest_path_lib.cost import ReciprocalConsistency, ConsistencyTurns\n",
    "from IPython.display import Image\n",
    "import json\n",
    "import matplotlib.image as mpimg\n",
    "import cv2\n",
    "import time\n",
    "import gc\n",
    "\n",
    "gc.collect()"
   ]
  },
  {
   "cell_type": "markdown",
   "metadata": {},
   "source": [
    "## Settings"
   ]
  },
  {
   "cell_type": "code",
   "execution_count": 2,
   "metadata": {},
   "outputs": [],
   "source": [
    "img_file = \"images/ex1.png\"\n",
    "cost_func = \"ct-wght-sum_rgb-thresh\"\n",
    "parameters = \"dir-wght=10000000\"\n",
    "bbox_file = \"images/ex1_paths.json\"\n",
    "# start_end_dict = {\"pair1\": [(2270, 4246), (5117, 4600)],\n",
    "#                   \"pair2\": [(397, 1137), (700, 7303)],\n",
    "#                   \"pair3\": [(3026, 1571), (5128, 3577)],\n",
    "#                   \"pair4\": [(4158, 5742), (5513, 5860)],\n",
    "#                   \"pair5\": [(5100, 941), (3021, 1216)],\n",
    "#                   }\n",
    "# pair = \"pair3\"\n",
    "# start_pixel, end_pixel = start_end_dict[pair][0], start_end_dict[pair][1]\n"
   ]
  },
  {
   "cell_type": "markdown",
   "metadata": {},
   "source": [
    "## Pre-Processing"
   ]
  },
  {
   "cell_type": "markdown",
   "metadata": {},
   "source": [
    "##### Importing Bounding Boxes"
   ]
  },
  {
   "cell_type": "code",
   "execution_count": 3,
   "metadata": {},
   "outputs": [
    {
     "data": {
      "text/plain": [
       "dict_items([('Image filename', 'ex1.png'), ('Image width', 2714), ('Image height', 656), ('Line', [{'type': 'path', 'x0': 169.43, 'y0': 288.27, 'x1': 457.87, 'y1': 282.37}, {'type': 'path', 'x0': 1199.47, 'y0': 378.3, 'x1': 1199.54, 'y1': 477.91}])])"
      ]
     },
     "execution_count": 3,
     "metadata": {},
     "output_type": "execute_result"
    }
   ],
   "source": [
    "bbox_json = {}\n",
    "with open(bbox_file) as file:\n",
    "    text = file.read()\n",
    "    bbox_json = json.loads(text)\n",
    "bbox_json.items()"
   ]
  },
  {
   "cell_type": "code",
   "execution_count": 4,
   "metadata": {},
   "outputs": [
    {
     "name": "stdout",
     "output_type": "stream",
     "text": [
      "[169, 288, 457, 282] [1199, 378, 1199, 477]\n"
     ]
    }
   ],
   "source": [
    "bbox_json = {}\n",
    "with open(bbox_file) as file:\n",
    "    text = file.read()\n",
    "    bbox_json = json.loads(text)\n",
    "\n",
    "start_bbox = []\n",
    "end_bbox = []\n",
    "count = 0\n",
    "\n",
    "for _, val in bbox_json.items():\n",
    "    if type(val) == list:\n",
    "        while count < 2:\n",
    "            box_dict = val[count]\n",
    "            if box_dict[\"type\"] == \"path\" and count == 0:\n",
    "                count += 1\n",
    "                start_bbox.append(int(box_dict[\"x0\"]))\n",
    "                start_bbox.append(int(box_dict[\"y0\"]))\n",
    "                start_bbox.append(int(box_dict[\"x1\"]))\n",
    "                start_bbox.append(int(box_dict[\"y1\"]))\n",
    "            elif box_dict[\"type\"] == \"path\" and count == 1:\n",
    "                count += 1\n",
    "                end_bbox.append(int(box_dict[\"x0\"]))\n",
    "                end_bbox.append(int(box_dict[\"y0\"]))\n",
    "                end_bbox.append(int(box_dict[\"x1\"]))\n",
    "                end_bbox.append(int(box_dict[\"y1\"]))\n",
    "\n",
    "print(start_bbox, end_bbox)\n"
   ]
  },
  {
   "cell_type": "markdown",
   "metadata": {},
   "source": [
    "##### Image Processing"
   ]
  },
  {
   "cell_type": "code",
   "execution_count": 5,
   "metadata": {},
   "outputs": [],
   "source": [
    "img_rgba = mpimg.imread(img_file)\n",
    "img_gray = 1 - cv2.cvtColor(img_rgba, cv2.COLOR_BGR2GRAY)  # invert color"
   ]
  },
  {
   "cell_type": "markdown",
   "metadata": {},
   "source": [
    "##### Finding Possible Starting and Ending Points"
   ]
  },
  {
   "cell_type": "code",
   "execution_count": 6,
   "metadata": {},
   "outputs": [],
   "source": [
    "def traverse_yedge(img_gray, main_axis, sec_axis_start, sec_axis_end):\n",
    "    \"\"\"\n",
    "    TODO: write docstring\n",
    "    \"\"\"\n",
    "    intensity_centers = []\n",
    "    MIN_INTENSITY = 0.1\n",
    "    curr_int_range = []\n",
    "    y = main_axis\n",
    "    for x in range(sec_axis_start, sec_axis_end):\n",
    "        if img_gray[y, x] > MIN_INTENSITY:\n",
    "            curr_int_range.append(x)\n",
    "        if len(curr_int_range) > 0 and img_gray[y, x] <= MIN_INTENSITY:\n",
    "            # TODO: change x to curr_int_range[-1]\n",
    "            mid_point = int((x + curr_int_range[0]) / 2)\n",
    "            intensity_centers.append((mid_point, y))\n",
    "            curr_int_range = []\n",
    "    return intensity_centers\n",
    "\n",
    "def traverse_xedge(img_gray, main_axis, sec_axis_start, sec_axis_end):\n",
    "    \"\"\"\n",
    "    TODO: write docstring\n",
    "    \"\"\"\n",
    "    intensity_centers = []\n",
    "    MIN_INTENSITY = 0.1\n",
    "    curr_int_range = []\n",
    "    x = main_axis\n",
    "    for y in range(sec_axis_start, sec_axis_end):\n",
    "        if img_gray[y, x] > MIN_INTENSITY:\n",
    "            curr_int_range.append(y)\n",
    "        if len(curr_int_range) > 0 and img_gray[y, x] <= MIN_INTENSITY:\n",
    "            # TODO: change x to curr_int_range[-1]\n",
    "            mid_point = int((y + curr_int_range[0]) / 2)\n",
    "            intensity_centers.append((x, mid_point))\n",
    "            curr_int_range = []\n",
    "    return intensity_centers"
   ]
  },
  {
   "cell_type": "code",
   "execution_count": 7,
   "metadata": {},
   "outputs": [
    {
     "name": "stdout",
     "output_type": "stream",
     "text": [
      "End Points: []\n",
      "Start Points: [(179, 288), (287, 288), (359, 288), (188, 282), (287, 282)]\n",
      "[169, 288, 457, 282] [1199, 378, 1199, 477]\n"
     ]
    },
    {
     "data": {
      "text/plain": [
       "[]"
      ]
     },
     "execution_count": 7,
     "metadata": {},
     "output_type": "execute_result"
    }
   ],
   "source": [
    "# img_gray, start_bbox, end_bbox\n",
    "def get_intensity_centers(img_gray, bbox):\n",
    "    x0 = bbox[0]\n",
    "    y0 = bbox[1]\n",
    "    x1 = bbox[2]\n",
    "    y1 = bbox[3]\n",
    "\n",
    "    intensity_centers = []\n",
    "    intensity_centers += traverse_xedge(img_gray, x0, y0, y1)\n",
    "    intensity_centers += traverse_xedge(img_gray, x1, y0, y1)\n",
    "    intensity_centers += traverse_yedge(img_gray, y0, x0, x1)\n",
    "    intensity_centers += traverse_yedge(img_gray, y1, x0, x1)\n",
    "    return intensity_centers\n",
    "\n",
    "start_points = get_intensity_centers(img_gray, start_bbox)\n",
    "end_points = get_intensity_centers(img_gray, end_bbox)\n",
    "print(f\"End Points: {end_points}\")\n",
    "print(f\"Start Points: {start_points}\")\n",
    "print(start_bbox, end_bbox)\n",
    "end_points[1:2]"
   ]
  },
  {
   "cell_type": "markdown",
   "metadata": {},
   "source": [
    "##### Cost Function and Search Algorithm Definitions"
   ]
  },
  {
   "cell_type": "code",
   "execution_count": null,
   "metadata": {},
   "outputs": [],
   "source": [
    "astar_results = {}\n",
    "for start_pt in start_points:\n",
    "    start_pixel = (start_pt[1], start_pt[0])\n",
    "    consistency_cost_func: CostFunction = ReciprocalConsistency(0, 1, img_rgba[start_pixel])\n",
    "    if cost_func[:2] == \"ct\":\n",
    "        consistency_cost_func: CostFunction = ConsistencyTurns(0, 1, img_rgba[start_pixel])\n",
    "    for end_pt in end_points:\n",
    "        end_pixel = (end_pt[1], end_pt[0])\n",
    "        gc.collect()\n",
    "        astar = AStarSearch(img_gray, img_rgba, start_pixel, end_pixel,\n",
    "                            cost_function=consistency_cost_func)\n",
    "        astar_start_time = time.time()\n",
    "        print(f\"Starting AStar on {start_pixel} to {end_pixel}...\")\n",
    "        path = astar.search()\n",
    "        astar_end_time = time.time()\n",
    "        print(\"AStar ended.\")\n",
    "        print(f\"Astar Run Time: {astar_end_time - astar_start_time} seconds\")\n",
    "        if astar is None or astar.result == []: \n",
    "            print(f\"AStar failed to find path from {start_pixel} to {end_pixel}.\")\n",
    "        else:\n",
    "            astar_results[(start_pixel, end_pixel)] = (astar.result, path)"
   ]
  },
  {
   "cell_type": "markdown",
   "metadata": {},
   "source": [
    "## Testing"
   ]
  },
  {
   "cell_type": "code",
   "execution_count": null,
   "metadata": {},
   "outputs": [],
   "source": [
    "# print(img_rgba[(402, 1075)])\n",
    "# print(img_rgba[(397, 1137)])\n",
    "# print(img_rgba[(701, 7297)])\n",
    "# print(img_rgba[(700, 7303)])\n",
    "# astar_results"
   ]
  },
  {
   "cell_type": "code",
   "execution_count": null,
   "metadata": {},
   "outputs": [],
   "source": [
    "# start_pixel, end_pixel = ((402, 1075), (701, 7297))\n",
    "# start_pixel, end_pixel = ((397, 1137), (700, 7303))\n",
    "start_pixel, end_pixel = ((3026, 1571), (5128, 3577))\n",
    "consistency_cost_func: CostFunction = ReciprocalConsistency(0, 1, img_rgba[start_pixel])\n",
    "if cost_func[:2] == \"ct\":\n",
    "    consistency_cost_func: CostFunction = ConsistencyTurns(0, 1, img_rgba[start_pixel])\n",
    "\n",
    "astar = AStarSearch(img_gray, img_rgba, start_pixel, end_pixel,\n",
    "                    cost_function=consistency_cost_func)\n",
    "astar_start_time = time.time()\n",
    "print(f\"Starting AStar on {start_pixel} to {end_pixel}...\")\n",
    "path = astar.search()\n",
    "astar_end_time = time.time()\n",
    "print(\"AStar ended.\")\n",
    "print(f\"Astar Run Time: {astar_end_time - astar_start_time} seconds\")\n"
   ]
  },
  {
   "cell_type": "markdown",
   "metadata": {},
   "source": [
    "## Plotting Result"
   ]
  },
  {
   "cell_type": "code",
   "execution_count": null,
   "metadata": {},
   "outputs": [],
   "source": [
    "for points, result_tup in astar_results.items():\n",
    "    start_pixel = points[1]\n",
    "    end_pixel = points[0]\n",
    "    result, path = result_tup\n",
    "    print(\"Loading Image ...\")\n",
    "    plt.imshow(img_rgba)\n",
    "    print(\"Plotting Points and Path ...\")\n",
    "    plt.plot(start_pixel[1], start_pixel[0], 'og')\n",
    "    plt.plot(end_pixel[1], end_pixel[0], 'or')\n",
    "    plt.plot([point[1] for point in result], [point[0] for point in path], '-b', linewidth=3)\n",
    "    plt.plot(start_pixel[1], start_pixel[0], 'og')\n",
    "    plt.plot(end_pixel[1], end_pixel[0], 'or')\n",
    "    plt.tight_layout()\n",
    "    print(\"Saving Figure ...\")\n",
    "    fig_name = f\"images/substation3_200_{points[0]}_to_{points[1]}_demo.png\"\n",
    "    plt.savefig(fig_name)\n",
    "    plt.close()\n",
    "    print('Done')"
   ]
  },
  {
   "cell_type": "markdown",
   "metadata": {},
   "source": [
    "## Show Image"
   ]
  },
  {
   "cell_type": "code",
   "execution_count": null,
   "metadata": {},
   "outputs": [],
   "source": [
    "# Image(filename=fig_name)"
   ]
  },
  {
   "cell_type": "markdown",
   "metadata": {},
   "source": [
    "## Animation"
   ]
  },
  {
   "cell_type": "code",
   "execution_count": null,
   "metadata": {},
   "outputs": [],
   "source": [
    "import seaborn as sns\n",
    "sns.set_theme(style=\"darkgrid\")"
   ]
  },
  {
   "cell_type": "code",
   "execution_count": null,
   "metadata": {},
   "outputs": [],
   "source": [
    "%%capture\n",
    "# astar.result\n",
    "import matplotlib.animation as animation\n",
    "\n",
    "# fig, ax = plt.subplots(figsize=(60,84))\n",
    "fig, ax = plt.subplots(figsize=(5,7))\n",
    "img_fig = ax.imshow(img_rgba)\n",
    "plt.plot(start_pixel[1], start_pixel[0], 'og', markersize=5)\n",
    "plt.plot(end_pixel[1], end_pixel[0], 'or', markersize=5)\n"
   ]
  },
  {
   "cell_type": "code",
   "execution_count": null,
   "metadata": {},
   "outputs": [],
   "source": [
    "def plot_frame_func(frame, ax, points):\n",
    "    # ax.clear()\n",
    "    ax.plot(points[frame][1], points[frame][0], 'bo', markersize=3)\n",
    "    return ax"
   ]
  },
  {
   "cell_type": "code",
   "execution_count": null,
   "metadata": {},
   "outputs": [],
   "source": [
    "# frames_indicies = range(len(astar.result))\n",
    "# %matplotlib widget\n",
    "total_frames = len(astar.result)\n",
    "step = int(total_frames / 30)\n",
    "frames_indicies = range(0, total_frames, step)\n",
    "\n",
    "ani = animation.FuncAnimation(fig, plot_frame_func, frames_indicies,\n",
    "                              interval=100, \n",
    "                              repeat_delay=5000, blit=False,\n",
    "                              fargs=(ax, astar.result))\n",
    "\n",
    "# plt.show()"
   ]
  },
  {
   "cell_type": "code",
   "execution_count": null,
   "metadata": {},
   "outputs": [],
   "source": [
    "from IPython.display import HTML\n",
    "HTML(ani.to_jshtml())"
   ]
  },
  {
   "cell_type": "code",
   "execution_count": null,
   "metadata": {},
   "outputs": [],
   "source": [
    "print(\"Saving animation ...\")\n",
    "ani.save(f\"images/animation_{pair}_{cost_func}_{parameters}.mp4\")"
   ]
  },
  {
   "cell_type": "code",
   "execution_count": null,
   "metadata": {},
   "outputs": [],
   "source": [
    "img_rgba.shape\n",
    "astar.result[0][1]\n",
    "len(astar.result)"
   ]
  },
  {
   "cell_type": "code",
   "execution_count": null,
   "metadata": {},
   "outputs": [],
   "source": []
  }
 ],
 "metadata": {
  "kernelspec": {
   "display_name": "Python 3 (ipykernel)",
   "language": "python",
   "name": "python3"
  },
  "language_info": {
   "codemirror_mode": {
    "name": "ipython",
    "version": 3
   },
   "file_extension": ".py",
   "mimetype": "text/x-python",
   "name": "python",
   "nbconvert_exporter": "python",
   "pygments_lexer": "ipython3",
   "version": "3.10.12"
  }
 },
 "nbformat": 4,
 "nbformat_minor": 2
}
